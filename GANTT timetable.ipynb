{
  "nbformat": 4,
  "nbformat_minor": 0,
  "metadata": {
    "colab": {
      "provenance": []
    },
    "kernelspec": {
      "name": "python3",
      "display_name": "Python 3"
    },
    "language_info": {
      "name": "python"
    }
  },
  "cells": [
    {
      "cell_type": "code",
      "execution_count": 1,
      "metadata": {
        "colab": {
          "base_uri": "https://localhost:8080/",
          "height": 542
        },
        "id": "MA5kphwGjydS",
        "outputId": "fafe35ea-e854-4574-9876-f0d91f3449f1"
      },
      "outputs": [
        {
          "output_type": "display_data",
          "data": {
            "text/html": [
              "<html>\n",
              "<head><meta charset=\"utf-8\" /></head>\n",
              "<body>\n",
              "    <div>            <script src=\"https://cdnjs.cloudflare.com/ajax/libs/mathjax/2.7.5/MathJax.js?config=TeX-AMS-MML_SVG\"></script><script type=\"text/javascript\">if (window.MathJax && window.MathJax.Hub && window.MathJax.Hub.Config) {window.MathJax.Hub.Config({SVG: {font: \"STIX-Web\"}});}</script>                <script type=\"text/javascript\">window.PlotlyConfig = {MathJaxConfig: 'local'};</script>\n",
              "        <script charset=\"utf-8\" src=\"https://cdn.plot.ly/plotly-2.35.2.min.js\"></script>                <div id=\"6f5af2bd-211f-4220-b1ab-81f67af7058e\" class=\"plotly-graph-div\" style=\"height:525px; width:100%;\"></div>            <script type=\"text/javascript\">                                    window.PLOTLYENV=window.PLOTLYENV || {};                                    if (document.getElementById(\"6f5af2bd-211f-4220-b1ab-81f67af7058e\")) {                    Plotly.newPlot(                        \"6f5af2bd-211f-4220-b1ab-81f67af7058e\",                        [{\"alignmentgroup\":\"True\",\"base\":[\"2024-11-01T00:00:00\",\"2024-11-03T00:00:00\",\"2024-11-03T00:00:00\",\"2024-11-06T00:00:00\",\"2024-11-11T00:00:00\",\"2024-11-13T00:00:00\",\"2024-11-17T00:00:00\",\"2024-11-17T00:00:00\",\"2024-11-25T00:00:00\",\"2024-11-25T00:00:00\",\"2024-11-30T00:00:00\",\"2024-12-09T00:00:00\",\"2024-12-11T00:00:00\",\"2024-12-11T00:00:00\",\"2024-12-19T00:00:00\",\"2024-12-24T00:00:00\",\"2024-12-28T00:00:00\",\"2025-01-01T00:00:00\",\"2025-01-05T00:00:00\",\"2025-01-09T00:00:00\",\"2025-01-09T00:00:00\",\"2025-01-13T00:00:00\"],\"hovertemplate\":\"Start=%{base}\\u003cbr\\u003eFinish=%{x}\\u003cbr\\u003eTask=%{y}\\u003cextra\\u003e\\u003c\\u002fextra\\u003e\",\"legendgroup\":\"\",\"marker\":{\"color\":\"#636efa\",\"pattern\":{\"shape\":\"\"}},\"name\":\"\",\"offsetgroup\":\"\",\"orientation\":\"h\",\"showlegend\":false,\"textposition\":\"auto\",\"x\":[172800000.0,259200000.0,259200000.0,432000000.0,172800000.0,345600000.0,345600000.0,345600000.0,432000000.0,432000000.0,432000000.0,172800000.0,691200000.0,691200000.0,432000000.0,259200000.0,345600000.0,345600000.0,345600000.0,259200000.0,345600000.0,172800000.0],\"xaxis\":\"x\",\"y\":[\"1. Kickoff Meeting\",\"2. Define Project Scope\",\"3. Identify Stakeholders\",\"4. Gather Requirements\",\"5. Document Requirements\",\"6. High-Level System Architecture\",\"7. Create Wireframes\\u002fMockups\",\"8. Define Prototype Plan\",\"9. Refine UI\\u002fUX Design\",\"10. Develop Technical Design\",\"11. Finalize Prototype Features\",\"12. Set up Development Environment\",\"13. Front-End Development\",\"14. Back-End Development\",\"15. Integration\",\"16. Initial Testing\",\"17. Internal Testing\",\"18. User Feedback Sessions\",\"19. Analyze Feedback & Refine Prototype\",\"20. Final Prototype Refinement\",\"21. Documentation\",\"22. Handoff to Development\"],\"yaxis\":\"y\",\"type\":\"bar\"}],                        {\"template\":{\"data\":{\"histogram2dcontour\":[{\"type\":\"histogram2dcontour\",\"colorbar\":{\"outlinewidth\":0,\"ticks\":\"\"},\"colorscale\":[[0.0,\"#0d0887\"],[0.1111111111111111,\"#46039f\"],[0.2222222222222222,\"#7201a8\"],[0.3333333333333333,\"#9c179e\"],[0.4444444444444444,\"#bd3786\"],[0.5555555555555556,\"#d8576b\"],[0.6666666666666666,\"#ed7953\"],[0.7777777777777778,\"#fb9f3a\"],[0.8888888888888888,\"#fdca26\"],[1.0,\"#f0f921\"]]}],\"choropleth\":[{\"type\":\"choropleth\",\"colorbar\":{\"outlinewidth\":0,\"ticks\":\"\"}}],\"histogram2d\":[{\"type\":\"histogram2d\",\"colorbar\":{\"outlinewidth\":0,\"ticks\":\"\"},\"colorscale\":[[0.0,\"#0d0887\"],[0.1111111111111111,\"#46039f\"],[0.2222222222222222,\"#7201a8\"],[0.3333333333333333,\"#9c179e\"],[0.4444444444444444,\"#bd3786\"],[0.5555555555555556,\"#d8576b\"],[0.6666666666666666,\"#ed7953\"],[0.7777777777777778,\"#fb9f3a\"],[0.8888888888888888,\"#fdca26\"],[1.0,\"#f0f921\"]]}],\"heatmap\":[{\"type\":\"heatmap\",\"colorbar\":{\"outlinewidth\":0,\"ticks\":\"\"},\"colorscale\":[[0.0,\"#0d0887\"],[0.1111111111111111,\"#46039f\"],[0.2222222222222222,\"#7201a8\"],[0.3333333333333333,\"#9c179e\"],[0.4444444444444444,\"#bd3786\"],[0.5555555555555556,\"#d8576b\"],[0.6666666666666666,\"#ed7953\"],[0.7777777777777778,\"#fb9f3a\"],[0.8888888888888888,\"#fdca26\"],[1.0,\"#f0f921\"]]}],\"heatmapgl\":[{\"type\":\"heatmapgl\",\"colorbar\":{\"outlinewidth\":0,\"ticks\":\"\"},\"colorscale\":[[0.0,\"#0d0887\"],[0.1111111111111111,\"#46039f\"],[0.2222222222222222,\"#7201a8\"],[0.3333333333333333,\"#9c179e\"],[0.4444444444444444,\"#bd3786\"],[0.5555555555555556,\"#d8576b\"],[0.6666666666666666,\"#ed7953\"],[0.7777777777777778,\"#fb9f3a\"],[0.8888888888888888,\"#fdca26\"],[1.0,\"#f0f921\"]]}],\"contourcarpet\":[{\"type\":\"contourcarpet\",\"colorbar\":{\"outlinewidth\":0,\"ticks\":\"\"}}],\"contour\":[{\"type\":\"contour\",\"colorbar\":{\"outlinewidth\":0,\"ticks\":\"\"},\"colorscale\":[[0.0,\"#0d0887\"],[0.1111111111111111,\"#46039f\"],[0.2222222222222222,\"#7201a8\"],[0.3333333333333333,\"#9c179e\"],[0.4444444444444444,\"#bd3786\"],[0.5555555555555556,\"#d8576b\"],[0.6666666666666666,\"#ed7953\"],[0.7777777777777778,\"#fb9f3a\"],[0.8888888888888888,\"#fdca26\"],[1.0,\"#f0f921\"]]}],\"surface\":[{\"type\":\"surface\",\"colorbar\":{\"outlinewidth\":0,\"ticks\":\"\"},\"colorscale\":[[0.0,\"#0d0887\"],[0.1111111111111111,\"#46039f\"],[0.2222222222222222,\"#7201a8\"],[0.3333333333333333,\"#9c179e\"],[0.4444444444444444,\"#bd3786\"],[0.5555555555555556,\"#d8576b\"],[0.6666666666666666,\"#ed7953\"],[0.7777777777777778,\"#fb9f3a\"],[0.8888888888888888,\"#fdca26\"],[1.0,\"#f0f921\"]]}],\"mesh3d\":[{\"type\":\"mesh3d\",\"colorbar\":{\"outlinewidth\":0,\"ticks\":\"\"}}],\"scatter\":[{\"fillpattern\":{\"fillmode\":\"overlay\",\"size\":10,\"solidity\":0.2},\"type\":\"scatter\"}],\"parcoords\":[{\"type\":\"parcoords\",\"line\":{\"colorbar\":{\"outlinewidth\":0,\"ticks\":\"\"}}}],\"scatterpolargl\":[{\"type\":\"scatterpolargl\",\"marker\":{\"colorbar\":{\"outlinewidth\":0,\"ticks\":\"\"}}}],\"bar\":[{\"error_x\":{\"color\":\"#2a3f5f\"},\"error_y\":{\"color\":\"#2a3f5f\"},\"marker\":{\"line\":{\"color\":\"#E5ECF6\",\"width\":0.5},\"pattern\":{\"fillmode\":\"overlay\",\"size\":10,\"solidity\":0.2}},\"type\":\"bar\"}],\"scattergeo\":[{\"type\":\"scattergeo\",\"marker\":{\"colorbar\":{\"outlinewidth\":0,\"ticks\":\"\"}}}],\"scatterpolar\":[{\"type\":\"scatterpolar\",\"marker\":{\"colorbar\":{\"outlinewidth\":0,\"ticks\":\"\"}}}],\"histogram\":[{\"marker\":{\"pattern\":{\"fillmode\":\"overlay\",\"size\":10,\"solidity\":0.2}},\"type\":\"histogram\"}],\"scattergl\":[{\"type\":\"scattergl\",\"marker\":{\"colorbar\":{\"outlinewidth\":0,\"ticks\":\"\"}}}],\"scatter3d\":[{\"type\":\"scatter3d\",\"line\":{\"colorbar\":{\"outlinewidth\":0,\"ticks\":\"\"}},\"marker\":{\"colorbar\":{\"outlinewidth\":0,\"ticks\":\"\"}}}],\"scattermapbox\":[{\"type\":\"scattermapbox\",\"marker\":{\"colorbar\":{\"outlinewidth\":0,\"ticks\":\"\"}}}],\"scatterternary\":[{\"type\":\"scatterternary\",\"marker\":{\"colorbar\":{\"outlinewidth\":0,\"ticks\":\"\"}}}],\"scattercarpet\":[{\"type\":\"scattercarpet\",\"marker\":{\"colorbar\":{\"outlinewidth\":0,\"ticks\":\"\"}}}],\"carpet\":[{\"aaxis\":{\"endlinecolor\":\"#2a3f5f\",\"gridcolor\":\"white\",\"linecolor\":\"white\",\"minorgridcolor\":\"white\",\"startlinecolor\":\"#2a3f5f\"},\"baxis\":{\"endlinecolor\":\"#2a3f5f\",\"gridcolor\":\"white\",\"linecolor\":\"white\",\"minorgridcolor\":\"white\",\"startlinecolor\":\"#2a3f5f\"},\"type\":\"carpet\"}],\"table\":[{\"cells\":{\"fill\":{\"color\":\"#EBF0F8\"},\"line\":{\"color\":\"white\"}},\"header\":{\"fill\":{\"color\":\"#C8D4E3\"},\"line\":{\"color\":\"white\"}},\"type\":\"table\"}],\"barpolar\":[{\"marker\":{\"line\":{\"color\":\"#E5ECF6\",\"width\":0.5},\"pattern\":{\"fillmode\":\"overlay\",\"size\":10,\"solidity\":0.2}},\"type\":\"barpolar\"}],\"pie\":[{\"automargin\":true,\"type\":\"pie\"}]},\"layout\":{\"autotypenumbers\":\"strict\",\"colorway\":[\"#636efa\",\"#EF553B\",\"#00cc96\",\"#ab63fa\",\"#FFA15A\",\"#19d3f3\",\"#FF6692\",\"#B6E880\",\"#FF97FF\",\"#FECB52\"],\"font\":{\"color\":\"#2a3f5f\"},\"hovermode\":\"closest\",\"hoverlabel\":{\"align\":\"left\"},\"paper_bgcolor\":\"white\",\"plot_bgcolor\":\"#E5ECF6\",\"polar\":{\"bgcolor\":\"#E5ECF6\",\"angularaxis\":{\"gridcolor\":\"white\",\"linecolor\":\"white\",\"ticks\":\"\"},\"radialaxis\":{\"gridcolor\":\"white\",\"linecolor\":\"white\",\"ticks\":\"\"}},\"ternary\":{\"bgcolor\":\"#E5ECF6\",\"aaxis\":{\"gridcolor\":\"white\",\"linecolor\":\"white\",\"ticks\":\"\"},\"baxis\":{\"gridcolor\":\"white\",\"linecolor\":\"white\",\"ticks\":\"\"},\"caxis\":{\"gridcolor\":\"white\",\"linecolor\":\"white\",\"ticks\":\"\"}},\"coloraxis\":{\"colorbar\":{\"outlinewidth\":0,\"ticks\":\"\"}},\"colorscale\":{\"sequential\":[[0.0,\"#0d0887\"],[0.1111111111111111,\"#46039f\"],[0.2222222222222222,\"#7201a8\"],[0.3333333333333333,\"#9c179e\"],[0.4444444444444444,\"#bd3786\"],[0.5555555555555556,\"#d8576b\"],[0.6666666666666666,\"#ed7953\"],[0.7777777777777778,\"#fb9f3a\"],[0.8888888888888888,\"#fdca26\"],[1.0,\"#f0f921\"]],\"sequentialminus\":[[0.0,\"#0d0887\"],[0.1111111111111111,\"#46039f\"],[0.2222222222222222,\"#7201a8\"],[0.3333333333333333,\"#9c179e\"],[0.4444444444444444,\"#bd3786\"],[0.5555555555555556,\"#d8576b\"],[0.6666666666666666,\"#ed7953\"],[0.7777777777777778,\"#fb9f3a\"],[0.8888888888888888,\"#fdca26\"],[1.0,\"#f0f921\"]],\"diverging\":[[0,\"#8e0152\"],[0.1,\"#c51b7d\"],[0.2,\"#de77ae\"],[0.3,\"#f1b6da\"],[0.4,\"#fde0ef\"],[0.5,\"#f7f7f7\"],[0.6,\"#e6f5d0\"],[0.7,\"#b8e186\"],[0.8,\"#7fbc41\"],[0.9,\"#4d9221\"],[1,\"#276419\"]]},\"xaxis\":{\"gridcolor\":\"white\",\"linecolor\":\"white\",\"ticks\":\"\",\"title\":{\"standoff\":15},\"zerolinecolor\":\"white\",\"automargin\":true,\"zerolinewidth\":2},\"yaxis\":{\"gridcolor\":\"white\",\"linecolor\":\"white\",\"ticks\":\"\",\"title\":{\"standoff\":15},\"zerolinecolor\":\"white\",\"automargin\":true,\"zerolinewidth\":2},\"scene\":{\"xaxis\":{\"backgroundcolor\":\"#E5ECF6\",\"gridcolor\":\"white\",\"linecolor\":\"white\",\"showbackground\":true,\"ticks\":\"\",\"zerolinecolor\":\"white\",\"gridwidth\":2},\"yaxis\":{\"backgroundcolor\":\"#E5ECF6\",\"gridcolor\":\"white\",\"linecolor\":\"white\",\"showbackground\":true,\"ticks\":\"\",\"zerolinecolor\":\"white\",\"gridwidth\":2},\"zaxis\":{\"backgroundcolor\":\"#E5ECF6\",\"gridcolor\":\"white\",\"linecolor\":\"white\",\"showbackground\":true,\"ticks\":\"\",\"zerolinecolor\":\"white\",\"gridwidth\":2}},\"shapedefaults\":{\"line\":{\"color\":\"#2a3f5f\"}},\"annotationdefaults\":{\"arrowcolor\":\"#2a3f5f\",\"arrowhead\":0,\"arrowwidth\":1},\"geo\":{\"bgcolor\":\"white\",\"landcolor\":\"#E5ECF6\",\"subunitcolor\":\"white\",\"showland\":true,\"showlakes\":true,\"lakecolor\":\"white\"},\"title\":{\"x\":0.05},\"mapbox\":{\"style\":\"light\"}}},\"xaxis\":{\"anchor\":\"y\",\"domain\":[0.0,1.0],\"type\":\"date\"},\"yaxis\":{\"anchor\":\"x\",\"domain\":[0.0,1.0],\"title\":{\"text\":\"Task\"},\"categoryorder\":\"array\",\"categoryarray\":[\"22. 22. Handoff to Development\",\"21. 21. Documentation\",\"20. 20. Final Prototype Refinement\",\"19. 19. Analyze Feedback & Refine Prototype\",\"18. 18. User Feedback Sessions\",\"17. 17. Internal Testing\",\"16. 16. Initial Testing\",\"15. 15. Integration\",\"14. 14. Back-End Development\",\"13. 13. Front-End Development\",\"12. 12. Set up Development Environment\",\"11. 11. Finalize Prototype Features\",\"10. 10. Develop Technical Design\",\"9. 9. Refine UI\\u002fUX Design\",\"8. 8. Define Prototype Plan\",\"7. 7. Create Wireframes\\u002fMockups\",\"6. 6. High-Level System Architecture\",\"5. 5. Document Requirements\",\"4. 4. Gather Requirements\",\"3. 3. Identify Stakeholders\",\"2. 2. Define Project Scope\",\"1. 1. Kickoff Meeting\"]},\"legend\":{\"tracegroupgap\":0},\"title\":{\"text\":\"Phase 1: Planning, Design, and Prototype Development\"},\"barmode\":\"overlay\"},                        {\"responsive\": true}                    ).then(function(){\n",
              "                            \n",
              "var gd = document.getElementById('6f5af2bd-211f-4220-b1ab-81f67af7058e');\n",
              "var x = new MutationObserver(function (mutations, observer) {{\n",
              "        var display = window.getComputedStyle(gd).display;\n",
              "        if (!display || display === 'none') {{\n",
              "            console.log([gd, 'removed!']);\n",
              "            Plotly.purge(gd);\n",
              "            observer.disconnect();\n",
              "        }}\n",
              "}});\n",
              "\n",
              "// Listen for the removal of the full notebook cells\n",
              "var notebookContainer = gd.closest('#notebook-container');\n",
              "if (notebookContainer) {{\n",
              "    x.observe(notebookContainer, {childList: true});\n",
              "}}\n",
              "\n",
              "// Listen for the clearing of the current output cell\n",
              "var outputEl = gd.closest('.output');\n",
              "if (outputEl) {{\n",
              "    x.observe(outputEl, {childList: true});\n",
              "}}\n",
              "\n",
              "                        })                };                            </script>        </div>\n",
              "</body>\n",
              "</html>"
            ]
          },
          "metadata": {}
        }
      ],
      "source": [
        "# Install necessary libraries\n",
        "!pip install plotly>=5.0.0\n",
        "!pip install pandas>=1.3.0\n",
        "\n",
        "import plotly.express as px\n",
        "import pandas as pd\n",
        "\n",
        "# Define the tasks and their durations for Phase 1\n",
        "tasks = [\n",
        "    {\"Task\": \"1. Kickoff Meeting\", \"Start\": \"2024-11-01\", \"Duration\": 2},\n",
        "    {\"Task\": \"2. Define Project Scope\", \"Start\": \"2024-11-03\", \"Duration\": 3},\n",
        "    {\"Task\": \"3. Identify Stakeholders\", \"Start\": \"2024-11-03\", \"Duration\": 3},\n",
        "    {\"Task\": \"4. Gather Requirements\", \"Start\": \"2024-11-06\", \"Duration\": 5},\n",
        "    {\"Task\": \"5. Document Requirements\", \"Start\": \"2024-11-11\", \"Duration\": 2},\n",
        "\n",
        "    {\"Task\": \"6. High-Level System Architecture\", \"Start\": \"2024-11-13\", \"Duration\": 4},\n",
        "    {\"Task\": \"7. Create Wireframes/Mockups\", \"Start\": \"2024-11-17\", \"Duration\": 4},\n",
        "    {\"Task\": \"8. Define Prototype Plan\", \"Start\": \"2024-11-17\", \"Duration\": 4},\n",
        "\n",
        "    {\"Task\": \"9. Refine UI/UX Design\", \"Start\": \"2024-11-25\", \"Duration\": 5},\n",
        "    {\"Task\": \"10. Develop Technical Design\", \"Start\": \"2024-11-25\", \"Duration\": 5},\n",
        "    {\"Task\": \"11. Finalize Prototype Features\", \"Start\": \"2024-11-30\", \"Duration\": 5},\n",
        "\n",
        "    {\"Task\": \"12. Set up Development Environment\", \"Start\": \"2024-12-09\", \"Duration\": 2},\n",
        "    {\"Task\": \"13. Front-End Development\", \"Start\": \"2024-12-11\", \"Duration\": 8},\n",
        "    {\"Task\": \"14. Back-End Development\", \"Start\": \"2024-12-11\", \"Duration\": 8},\n",
        "    {\"Task\": \"15. Integration\", \"Start\": \"2024-12-19\", \"Duration\": 5},\n",
        "    {\"Task\": \"16. Initial Testing\", \"Start\": \"2024-12-24\", \"Duration\": 3},\n",
        "\n",
        "    {\"Task\": \"17. Internal Testing\", \"Start\": \"2024-12-28\", \"Duration\": 4},\n",
        "    {\"Task\": \"18. User Feedback Sessions\", \"Start\": \"2025-01-01\", \"Duration\": 4},\n",
        "    {\"Task\": \"19. Analyze Feedback & Refine Prototype\", \"Start\": \"2025-01-05\", \"Duration\": 4},\n",
        "\n",
        "    {\"Task\": \"20. Final Prototype Refinement\", \"Start\": \"2025-01-09\", \"Duration\": 3},\n",
        "    {\"Task\": \"21. Documentation\", \"Start\": \"2025-01-09\", \"Duration\": 4},\n",
        "    {\"Task\": \"22. Handoff to Development\", \"Start\": \"2025-01-13\", \"Duration\": 2}\n",
        "]\n",
        "\n",
        "# Convert tasks to DataFrame\n",
        "df = pd.DataFrame(tasks)\n",
        "\n",
        "# Convert start date to datetime\n",
        "df[\"Start\"] = pd.to_datetime(df[\"Start\"])\n",
        "\n",
        "# Calculate end date based on start date and duration\n",
        "df[\"Finish\"] = df[\"Start\"] + pd.to_timedelta(df[\"Duration\"], unit='D')\n",
        "\n",
        "# Define the order of tasks\n",
        "task_order = [f\"{i}. {task}\" for i, task in enumerate(df[\"Task\"], start=1)]\n",
        "\n",
        "# Plot the Gantt chart with the specified task order\n",
        "fig = px.timeline(df, x_start=\"Start\", x_end=\"Finish\", y=\"Task\", title=\"Phase 1: Planning, Design, and Prototype Development\", category_orders={\"Task\": task_order})\n",
        "\n",
        "# Show the Gantt chart\n",
        "fig.show()\n"
      ]
    }
  ]
}